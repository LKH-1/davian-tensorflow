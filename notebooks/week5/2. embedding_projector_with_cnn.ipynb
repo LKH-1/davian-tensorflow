{
 "cells": [
  {
   "cell_type": "markdown",
   "metadata": {},
   "source": [
    "# 2. TensorBoard: Hidden Vector Visualization / Embedding\n",
    "\n",
    "이번 튜토리얼에서는 CNN을 학습시키고 softmax layer 직전의 fully connected layer에서의 hidden vector를 embedding visulization을 해보도록 하겠습니다."
   ]
  },
  {
   "cell_type": "code",
   "execution_count": 1,
   "metadata": {
    "collapsed": false
   },
   "outputs": [],
   "source": [
    "from tensorflow.examples.tutorials.mnist import input_data\n",
    "from tensorflow.contrib.tensorboard.plugins import projector\n",
    "import tensorflow.contrib.slim as slim\n",
    "import tensorflow as tf\n",
    "import numpy as np"
   ]
  },
  {
   "cell_type": "markdown",
   "metadata": {},
   "source": [
    "### Load MNIST dataset\n",
    "이전 튜토리얼과 마찬가지로 MNIST 데이터셋을 불러옵니다. 이번에는 CNN이기 때문에 reshape=False로 했습니다."
   ]
  },
  {
   "cell_type": "code",
   "execution_count": 2,
   "metadata": {
    "collapsed": false
   },
   "outputs": [
    {
     "name": "stdout",
     "output_type": "stream",
     "text": [
      "Extracting mnist/train-images-idx3-ubyte.gz\n",
      "Extracting mnist/train-labels-idx1-ubyte.gz\n",
      "Extracting mnist/t10k-images-idx3-ubyte.gz\n",
      "Extracting mnist/t10k-labels-idx1-ubyte.gz\n"
     ]
    }
   ],
   "source": [
    "mnist = input_data.read_data_sets(train_dir='mnist', reshape=False)\n",
    "x_train = mnist.train.images\n",
    "y_train = mnist.train.labels\n",
    "x_test = mnist.test.images\n",
    "y_test = mnist.test.labels"
   ]
  },
  {
   "cell_type": "markdown",
   "metadata": {},
   "source": [
    "### Define the Model\n",
    "아래 코드에서는 TensorFlow 공식 high-level API인 slim을 사용해서 CNN 모델을 정의합니다. 그 동안 tutorial에서 배웠던 것을 복습할 겸 pass 부분을 구현하시면 됩니다."
   ]
  },
  {
   "cell_type": "code",
   "execution_count": 3,
   "metadata": {
    "collapsed": false
   },
   "outputs": [],
   "source": [
    "class Convnet(object):\n",
    "    def __init__(self, learning_rate=0.001):\n",
    "        self.images = tf.placeholder(tf.float32, shape=[None, 28, 28, 1], name='input_images')\n",
    "        self.targets = tf.placeholder(tf.int64, shape=[None], name='target_indices')\n",
    "        self.learning_rate = learning_rate\n",
    "    \n",
    "        # build model\n",
    "        with slim.arg_scope([slim.conv2d], padding='SAME', activation_fn=tf.nn.relu, stride=2,\n",
    "                            weights_initializer=tf.contrib.layers.xavier_initializer()):\n",
    "            \n",
    "            conv1 = slim.conv2d(self.images, 16, [3, 3], scope='conv1')                              # (batch_size, 14, 14, 16)  \n",
    "            conv2 = slim.conv2d(conv1, 32, [3, 3], scope='conv2')                                    # (batch_size, 7, 7, 32)\n",
    "            conv3 = slim.conv2d(conv2, 64, [3, 3], scope='conv3')                                    # (batch_size, 4, 4, 64)\n",
    "            conv4 = slim.conv2d(conv3, 128, [4, 4], padding='VALID', scope='conv4')                  # (batch_size, 1, 1, 128)\n",
    "            out = slim.flatten(slim.conv2d(conv4, 10, [1, 1], activation_fn=None, scope='out'))      # (batch_size, 10)\n",
    "            \n",
    "            # features we extract\n",
    "            self.fc = slim.flatten(conv4)  # (batch_size, 128)\n",
    "            \n",
    "            # TODO: 아래 부분을 모두 구현하시면 됩니다. (tf.slim을 사용할 필요는 없습니다.)\n",
    "            pred = pass\n",
    "            correct_pred = pass\n",
    "            self.accuracy = pass\n",
    "            self.loss = pass\n",
    "            self.train_op = pass"
   ]
  },
  {
   "cell_type": "markdown",
   "metadata": {},
   "source": [
    "### Construct the Model\n",
    "모델 그래프를 생성합니다."
   ]
  },
  {
   "cell_type": "code",
   "execution_count": 4,
   "metadata": {
    "collapsed": false,
    "scrolled": true
   },
   "outputs": [],
   "source": [
    "model = pass"
   ]
  },
  {
   "cell_type": "markdown",
   "metadata": {},
   "source": [
    "### Train the Model\n",
    "CNN 모델을 학습 시킵니다."
   ]
  },
  {
   "cell_type": "code",
   "execution_count": 6,
   "metadata": {
    "collapsed": false,
    "scrolled": true
   },
   "outputs": [
    {
     "name": "stdout",
     "output_type": "stream",
     "text": [
      "Epoch [1/10], Loss: 0.3206, Accuracy: 0.9062\n",
      "Epoch [2/10], Loss: 0.0919, Accuracy: 0.9720\n",
      "Epoch [3/10], Loss: 0.0602, Accuracy: 0.9818\n",
      "Epoch [4/10], Loss: 0.0443, Accuracy: 0.9862\n",
      "Epoch [5/10], Loss: 0.0331, Accuracy: 0.9898\n",
      "Epoch [6/10], Loss: 0.0263, Accuracy: 0.9918\n",
      "Epoch [7/10], Loss: 0.0208, Accuracy: 0.9936\n",
      "Epoch [8/10], Loss: 0.0191, Accuracy: 0.9936\n",
      "Epoch [9/10], Loss: 0.0171, Accuracy: 0.9941\n",
      "Epoch [10/10], Loss: 0.0129, Accuracy: 0.9960\n"
     ]
    }
   ],
   "source": [
    "num_epoch = 10\n",
    "batch_size = 100\n",
    "num_iter_per_epoch = int(x_train.shape[0] / batch_size)\n",
    "\n",
    "gpu_config = tf.ConfigProto()\n",
    "gpu_config.gpu_options.allow_growth = True\n",
    "sess = tf.InteractiveSession(config=gpu_config) \n",
    "\n",
    "log_dir = 'logs/'\n",
    "summary_writer = tf.summary.FileWriter(logdir=log_dir, graph=tf.get_default_graph())\n",
    "tf.global_variables_initializer().run()\n",
    "for e in range(num_epoch):\n",
    "    avg_loss = 0.0\n",
    "    avg_acc = 0.0\n",
    "    for i in range(num_iter_per_epoch):\n",
    "        # TODO: batch data와 feed_dict를 설정하고 session을 실행시켜 학습을 시키도록 합니다.\n",
    "        x_batch = pass\n",
    "        y_batch = pass\n",
    "        feed_dict = pass\n",
    "        _, l, acc = pass\n",
    "        \n",
    "        avg_loss += l / num_iter_per_epoch\n",
    "        avg_acc += acc / num_iter_per_epoch\n",
    "    \n",
    "    print('Epoch [%d/%d], Loss: %.4f, Accuracy: %.4f' %(e+1, num_epoch, avg_loss, avg_acc))"
   ]
  },
  {
   "cell_type": "markdown",
   "metadata": {},
   "source": [
    "### Extract the Hidden Vectors\n",
    "MNIST 테스트 이미지를 학습된 CNN에 forward propagation시켜 128x1짜리 hidden vector를 추출합니다."
   ]
  },
  {
   "cell_type": "code",
   "execution_count": 8,
   "metadata": {
    "collapsed": false
   },
   "outputs": [],
   "source": [
    "num_iter = int(x_test.shape[0] / batch_size)\n",
    "features = np.zeros((x_test.shape[0], 128))\n",
    "\n",
    "for i in range(num_iter):\n",
    "    # TODO: batch data를 설정하고 hidden vectors를 추출합니다.\n",
    "    x_batch = pass\n",
    "    y_batch = pass\n",
    "    features[i*batch_size:(i+1)*batch_size] = pass"
   ]
  },
  {
   "cell_type": "markdown",
   "metadata": {},
   "source": [
    "### Embedding and Visualizing the Hidden Vectors\n",
    "아래부터는 이전 exercise와 동일하므로 새로 구현할 필요없이 실행만 하시면 됩니다. "
   ]
  },
  {
   "cell_type": "code",
   "execution_count": 9,
   "metadata": {
    "collapsed": true
   },
   "outputs": [],
   "source": [
    "embedding_var = tf.Variable(features, name='embedding')"
   ]
  },
  {
   "cell_type": "code",
   "execution_count": 10,
   "metadata": {
    "collapsed": false
   },
   "outputs": [],
   "source": [
    "# make log directory if not exists\n",
    "log_dir = 'logs/'\n",
    "if tf.gfile.Exists(log_dir):\n",
    "    tf.gfile.DeleteRecursively(log_dir)\n",
    "tf.gfile.MakeDirs(log_dir)"
   ]
  },
  {
   "cell_type": "code",
   "execution_count": 11,
   "metadata": {
    "collapsed": false,
    "scrolled": true
   },
   "outputs": [
    {
     "data": {
      "text/plain": [
       "'logs/model.ckpt'"
      ]
     },
     "execution_count": 11,
     "metadata": {},
     "output_type": "execute_result"
    }
   ],
   "source": [
    "tf.global_variables_initializer().run()\n",
    "saver = tf.train.Saver()\n",
    "saver.save(sess, save_path=log_dir+'model.ckpt', global_step=None)"
   ]
  },
  {
   "cell_type": "code",
   "execution_count": 12,
   "metadata": {
    "collapsed": true
   },
   "outputs": [],
   "source": [
    "# add embedding data\n",
    "summary_writer = tf.summary.FileWriter(logdir=log_dir, graph=tf.get_default_graph())\n",
    "config = projector.ProjectorConfig()\n",
    "embedding = config.embeddings.add()\n",
    "embedding.tensor_name = embedding_var.name"
   ]
  },
  {
   "cell_type": "code",
   "execution_count": 13,
   "metadata": {
    "collapsed": false
   },
   "outputs": [],
   "source": [
    "# add label data\n",
    "metadata_path = 'logs/metadata.tsv'\n",
    "with open(metadata_path, 'w') as f:\n",
    "    for i, label in enumerate(mnist.test.labels):\n",
    "        f.write('{}\\n'.format(label))\n",
    "embedding.metadata_path = metadata_path"
   ]
  },
  {
   "cell_type": "code",
   "execution_count": 14,
   "metadata": {
    "collapsed": true
   },
   "outputs": [],
   "source": [
    "# add sprite image\n",
    "embedding.sprite.image_path = 'mnist/mnist_10k_sprite.png'\n",
    "embedding.sprite.single_image_dim.extend([28, 28])"
   ]
  },
  {
   "cell_type": "code",
   "execution_count": 15,
   "metadata": {
    "collapsed": true
   },
   "outputs": [],
   "source": [
    "# visualize embedding projector\n",
    "projector.visualize_embeddings(summary_writer, config)"
   ]
  },
  {
   "cell_type": "markdown",
   "metadata": {},
   "source": [
    "이전 exercise와 마찬가지로, 새로운 linux terminal을 키시고 아래처럼 명령어를 입력합니다. 그 다음 웹 브라우저에 `163.152.20.66:6006`를 입력하여 tensorboard를 실행하면 embedding 결과를 확인할 수 있습니다.\n",
    "\n",
    "```bash\n",
    "source anaconda2/bin/activate ~/anaconda2\n",
    "cd davian-tensorflow/notebooks/week5/\n",
    "tensorboard --logdir=logs --port=6005\n",
    "```"
   ]
  },
  {
   "cell_type": "markdown",
   "metadata": {},
   "source": [
    "### Embedding Result\n",
    "아래는 PCA를 사용하여 mnist 이미지의 hidden vector를 embedding 했을 때의 모습입니다. \n",
    "\n",
    "![alt text](jpg/pca_cnn.jpg)"
   ]
  }
 ],
 "metadata": {
  "anaconda-cloud": {},
  "kernelspec": {
   "display_name": "Python [conda root]",
   "language": "python",
   "name": "conda-root-py"
  },
  "language_info": {
   "codemirror_mode": {
    "name": "ipython",
    "version": 2
   },
   "file_extension": ".py",
   "mimetype": "text/x-python",
   "name": "python",
   "nbconvert_exporter": "python",
   "pygments_lexer": "ipython2",
   "version": "2.7.12"
  }
 },
 "nbformat": 4,
 "nbformat_minor": 1
}
