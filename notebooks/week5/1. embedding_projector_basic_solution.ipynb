{
 "cells": [
  {
   "cell_type": "markdown",
   "metadata": {},
   "source": [
    "# 1. TensorBoard: Embedding Visualization\n",
    "\n",
    "이번 튜토리얼에서는 MNIST 이미지(784x1 짜리 벡터)를 embedding 시킨 후 시각화를 해보도록 하겠습니다."
   ]
  },
  {
   "cell_type": "code",
   "execution_count": 1,
   "metadata": {
    "collapsed": false
   },
   "outputs": [],
   "source": [
    "from tensorflow.examples.tutorials.mnist import input_data\n",
    "from tensorflow.contrib.tensorboard.plugins import projector\n",
    "import tensorflow as tf"
   ]
  },
  {
   "cell_type": "markdown",
   "metadata": {},
   "source": [
    "### Load MNIST dataset\n",
    "MNIST 데이터셋을 불러옵니다. "
   ]
  },
  {
   "cell_type": "code",
   "execution_count": 2,
   "metadata": {
    "collapsed": false
   },
   "outputs": [
    {
     "name": "stdout",
     "output_type": "stream",
     "text": [
      "Extracting mnist/train-images-idx3-ubyte.gz\n",
      "Extracting mnist/train-labels-idx1-ubyte.gz\n",
      "Extracting mnist/t10k-images-idx3-ubyte.gz\n",
      "Extracting mnist/t10k-labels-idx1-ubyte.gz\n"
     ]
    }
   ],
   "source": [
    "mnist = input_data.read_data_sets(train_dir='mnist', reshape=True)"
   ]
  },
  {
   "cell_type": "markdown",
   "metadata": {},
   "source": [
    "### Define Embedding Variable\n",
    "먼저 Embedding 시킬 Variable을 정해줘야 합니다.여기서는 MNIST 테스트 이미지 (784x1)를 Embedding 시켜보도록 하겠습니다."
   ]
  },
  {
   "cell_type": "code",
   "execution_count": 3,
   "metadata": {
    "collapsed": true
   },
   "outputs": [],
   "source": [
    "# TODO: define a embedding variable \n",
    "embedding_var = tf.Variable(mnist.test.images, name='embedding')"
   ]
  },
  {
   "cell_type": "markdown",
   "metadata": {},
   "source": [
    "아래는 logs 폴더를 지우고 새로 생성하는 코드와 gpu 환경설정을 하는 코드입니다. 별로 중요한 코드는 아니니 넘어가도록 하겠습니다."
   ]
  },
  {
   "cell_type": "code",
   "execution_count": 4,
   "metadata": {
    "collapsed": false
   },
   "outputs": [],
   "source": [
    "# clear the log directory and recreate it \n",
    "log_dir = 'logs/'\n",
    "if tf.gfile.Exists(log_dir):\n",
    "    tf.gfile.DeleteRecursively(log_dir)\n",
    "tf.gfile.MakeDirs(log_dir)\n",
    "\n",
    "# gpu configuration \n",
    "gpu_config = tf.ConfigProto()\n",
    "gpu_config.gpu_options.allow_growth = True\n",
    "sess = tf.InteractiveSession(config=gpu_config) "
   ]
  },
  {
   "cell_type": "markdown",
   "metadata": {},
   "source": [
    "아래는 saver를 정의하고 model을 저장하는 코드입니다. 여기도 그냥 넘어가도록 하겠습니다."
   ]
  },
  {
   "cell_type": "code",
   "execution_count": 5,
   "metadata": {
    "collapsed": false,
    "scrolled": true
   },
   "outputs": [
    {
     "data": {
      "text/plain": [
       "'logs/model.ckpt'"
      ]
     },
     "execution_count": 5,
     "metadata": {},
     "output_type": "execute_result"
    }
   ],
   "source": [
    "tf.global_variables_initializer().run()\n",
    "saver = tf.train.Saver()\n",
    "saver.save(sess, save_path=log_dir+'model.ckpt', global_step=None)"
   ]
  },
  {
   "cell_type": "markdown",
   "metadata": {},
   "source": [
    "### Add Embedding\n",
    "Embedding 시킬 tensor variable을 추가해줍니다."
   ]
  },
  {
   "cell_type": "code",
   "execution_count": 6,
   "metadata": {
    "collapsed": true
   },
   "outputs": [],
   "source": [
    "# TODO: add embedding data \n",
    "summary_writer = tf.summary.FileWriter(logdir=log_dir, graph=tf.get_default_graph())\n",
    "config = projector.ProjectorConfig()\n",
    "embedding = config.embeddings.add()\n",
    "embedding.tensor_name = embedding_var.name"
   ]
  },
  {
   "cell_type": "markdown",
   "metadata": {},
   "source": [
    "### Add Metadata"
   ]
  },
  {
   "cell_type": "markdown",
   "metadata": {},
   "source": [
    "MNIST 이미지의 meta data로 label과 sprite image를 넣어보도록 하겠습니다.  sprite image는 폴더들을 찾아보면 png파일로 있습니다."
   ]
  },
  {
   "cell_type": "code",
   "execution_count": 7,
   "metadata": {
    "collapsed": false
   },
   "outputs": [],
   "source": [
    "# TODO: add label data \n",
    "metadata_path = 'logs/metadata.tsv'\n",
    "with open(metadata_path, 'w') as f:\n",
    "    for i, label in enumerate(mnist.test.labels):\n",
    "        f.write('{}\\n'.format(label))\n",
    "embedding.metadata_path = metadata_path"
   ]
  },
  {
   "cell_type": "code",
   "execution_count": 8,
   "metadata": {
    "collapsed": false
   },
   "outputs": [],
   "source": [
    "# TODO: add sprite image\n",
    "embedding.sprite.image_path = 'mnist/mnist_10k_sprite.png'\n",
    "embedding.sprite.single_image_dim.extend([28, 28])"
   ]
  },
  {
   "cell_type": "markdown",
   "metadata": {},
   "source": [
    "### Visualize Embeddings"
   ]
  },
  {
   "cell_type": "code",
   "execution_count": 9,
   "metadata": {
    "collapsed": true
   },
   "outputs": [],
   "source": [
    "# TODO: visualize embedding projector\n",
    "projector.visualize_embeddings(summary_writer, config)"
   ]
  },
  {
   "cell_type": "markdown",
   "metadata": {},
   "source": [
    "새로운 linux terminal을 키시고 아래처럼 명령어를 입력합니다. 그 다음 웹 브라우저에 `163.152.20.66:6006`를 입력하여 tensorboard를 실행하면 embedding 결과를 확인할 수 있습니다.\n",
    "\n",
    "```bash\n",
    "source anaconda2/bin/activate ~/anaconda2\n",
    "cd davian-tensorflow/notebooks/week5/\n",
    "tensorboard --logdir=logs --port=6005\n",
    "```"
   ]
  },
  {
   "cell_type": "markdown",
   "metadata": {},
   "source": [
    "### Embedding Result\n",
    "아래는 PCA를 사용하여 mnist 이미지자체를 embedding 했을 때의 모습입니다. \n",
    "\n",
    "![alt text](jpg/pca.jpg)"
   ]
  }
 ],
 "metadata": {
  "anaconda-cloud": {},
  "kernelspec": {
   "display_name": "Python [conda root]",
   "language": "python",
   "name": "conda-root-py"
  },
  "language_info": {
   "codemirror_mode": {
    "name": "ipython",
    "version": 2
   },
   "file_extension": ".py",
   "mimetype": "text/x-python",
   "name": "python",
   "nbconvert_exporter": "python",
   "pygments_lexer": "ipython2",
   "version": "2.7.12"
  }
 },
 "nbformat": 4,
 "nbformat_minor": 1
}
