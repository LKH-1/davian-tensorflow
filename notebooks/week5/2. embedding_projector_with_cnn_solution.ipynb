{
 "cells": [
  {
   "cell_type": "markdown",
   "metadata": {},
   "source": [
    "# TensorBoard: Convolution Activation Map Visualization / Embedding\n",
    "\n",
    "이번 튜토리얼에서는 CNN을 학습시키고 softmax layer 직전의 fully connected layer를 embedding visulization을 해보도록 하겠습니다."
   ]
  },
  {
   "cell_type": "code",
   "execution_count": 1,
   "metadata": {
    "collapsed": false
   },
   "outputs": [],
   "source": [
    "from tensorflow.examples.tutorials.mnist import input_data\n",
    "from tensorflow.contrib.tensorboard.plugins import projector\n",
    "import tensorflow.contrib.slim as slim\n",
    "import tensorflow as tf\n",
    "import numpy as np"
   ]
  },
  {
   "cell_type": "markdown",
   "metadata": {},
   "source": [
    "### Load MNIST dataset\n",
    "이전 튜토리얼과 마찬가지로 MNIST 데이터셋을 불러옵니다. 이번에는 CNN이기 때문에 reshape=False로 했습니다."
   ]
  },
  {
   "cell_type": "code",
   "execution_count": 2,
   "metadata": {
    "collapsed": false
   },
   "outputs": [
    {
     "name": "stdout",
     "output_type": "stream",
     "text": [
      "Extracting mnist/train-images-idx3-ubyte.gz\n",
      "Extracting mnist/train-labels-idx1-ubyte.gz\n",
      "Extracting mnist/t10k-images-idx3-ubyte.gz\n",
      "Extracting mnist/t10k-labels-idx1-ubyte.gz\n"
     ]
    }
   ],
   "source": [
    "mnist = input_data.read_data_sets(train_dir='mnist', reshape=False)\n",
    "x_train = mnist.train.images\n",
    "y_train = mnist.train.labels\n",
    "x_test = mnist.test.images\n",
    "y_test = mnist.test.labels"
   ]
  },
  {
   "cell_type": "markdown",
   "metadata": {},
   "source": [
    "### Define the Model\n",
    "Tensorflow 공식 high level api인 slim을 사용해서 CNN을 구현했습니다. "
   ]
  },
  {
   "cell_type": "code",
   "execution_count": 3,
   "metadata": {
    "collapsed": false
   },
   "outputs": [],
   "source": [
    "class Convnet(object):\n",
    "    def __init__(self, num_class=10, learning_rate=0.001):\n",
    "        self.input = tf.placeholder(tf.float32, shape=[None, 28, 28, 1], name='input_images')\n",
    "        self.target = tf.placeholder(tf.int64, shape=[None], name='target_indices')\n",
    "        self.num_class = num_class\n",
    "        self.learning_rate = learning_rate\n",
    "    \n",
    "        # build model\n",
    "        with slim.arg_scope([slim.conv2d], padding='SAME', activation_fn=tf.nn.relu,\n",
    "                            weights_initializer=tf.contrib.layers.xavier_initializer()):\n",
    "            \n",
    "            self.conv1 = slim.conv2d(self.input, 16, [5, 5], scope='conv1') \n",
    "            self.pool1 = slim.max_pool2d(self.conv1, [2, 2], scope='pool1')   # (batch_size, 14, 14, 16)            \n",
    "            \n",
    "            self.conv2 = slim.conv2d(self.pool1, 32, [5, 5], scope='conv2')\n",
    "            self.pool2 = slim.max_pool2d(self.conv2, [2, 2], scope='pool2')   # (batch_size, 7, 7, 32)\n",
    "            \n",
    "            self.conv3 = slim.conv2d(self.pool2, 64, [5, 5], scope='conv3')\n",
    "            self.pool3 = slim.max_pool2d(self.conv3, [2, 2], scope='pool3')   # (batch_size, 3, 3, 64)\n",
    "            \n",
    "            self.fc = slim.fully_connected(slim.flatten(self.pool3), 128, activation_fn=tf.nn.tanh, scope='fc')   # (batch_size, 128)\n",
    "            self.out = slim.fully_connected(self.fc, 10, activation_fn=None, scope='out')   # (batch_size, 10)\n",
    "            \n",
    "            # TODO (You do not have to use slim)\n",
    "            self.pred = tf.argmax(self.out, 1)\n",
    "            self.correct_pred = tf.equal(self.pred, self.target)\n",
    "            self.accuracy = tf.reduce_mean(tf.cast(self.correct_pred, tf.float32))\n",
    "            self.loss = tf.reduce_mean(tf.nn.sparse_softmax_cross_entropy_with_logits(self.out, self.target))\n",
    "            self.train_op = tf.train.AdamOptimizer(self.learning_rate).minimize(self.loss)"
   ]
  },
  {
   "cell_type": "code",
   "execution_count": 4,
   "metadata": {
    "collapsed": false,
    "scrolled": true
   },
   "outputs": [],
   "source": [
    "model = Convnet()"
   ]
  },
  {
   "cell_type": "markdown",
   "metadata": {},
   "source": [
    "### Train the Model\n",
    "CNN 모델을 학습 시킵니다."
   ]
  },
  {
   "cell_type": "code",
   "execution_count": 5,
   "metadata": {
    "collapsed": false,
    "scrolled": true
   },
   "outputs": [
    {
     "name": "stdout",
     "output_type": "stream",
     "text": [
      "Epoch [1/10], Loss: 0.1952, Accuracy: 0.9405\n",
      "Epoch [2/10], Loss: 0.0535, Accuracy: 0.9832\n",
      "Epoch [3/10], Loss: 0.0366, Accuracy: 0.9884\n",
      "Epoch [4/10], Loss: 0.0231, Accuracy: 0.9928\n",
      "Epoch [5/10], Loss: 0.0160, Accuracy: 0.9953\n",
      "Epoch [6/10], Loss: 0.0128, Accuracy: 0.9961\n",
      "Epoch [7/10], Loss: 0.0118, Accuracy: 0.9959\n",
      "Epoch [8/10], Loss: 0.0111, Accuracy: 0.9966\n",
      "Epoch [9/10], Loss: 0.0097, Accuracy: 0.9969\n",
      "Epoch [10/10], Loss: 0.0083, Accuracy: 0.9974\n"
     ]
    }
   ],
   "source": [
    "num_epoch = 10\n",
    "batch_size = 100\n",
    "num_iter_per_epoch = int(x_train.shape[0] / batch_size)\n",
    "\n",
    "gpu_config = tf.ConfigProto()\n",
    "gpu_config.gpu_options.allow_growth = True\n",
    "sess = tf.InteractiveSession(config=gpu_config) \n",
    "\n",
    "tf.global_variables_initializer().run()\n",
    "for e in range(num_epoch):\n",
    "    avg_loss = 0.0\n",
    "    avg_acc = 0.0\n",
    "    for i in range(num_iter_per_epoch):\n",
    "        # TODO\n",
    "        x_batch = x_train[i*batch_size:(i+1)*batch_size]\n",
    "        y_batch = y_train[i*batch_size:(i+1)*batch_size]\n",
    "        \n",
    "        feed_dict = {model.input: x_batch, model.target: y_batch}\n",
    "        _, l, acc = sess.run([model.train_op, model.loss, model.accuracy], feed_dict=feed_dict)\n",
    "        \n",
    "        avg_loss += l / num_iter_per_epoch\n",
    "        avg_acc += acc / num_iter_per_epoch\n",
    "    print('Epoch [%d/%d], Loss: %.4f, Accuracy: %.4f' %(e+1, num_epoch, avg_loss, avg_acc))"
   ]
  },
  {
   "cell_type": "markdown",
   "metadata": {},
   "source": [
    "### Define Embedding Variable"
   ]
  },
  {
   "cell_type": "code",
   "execution_count": 6,
   "metadata": {
    "collapsed": false
   },
   "outputs": [],
   "source": [
    "num_iter = int(x_test.shape[0] / batch_size)\n",
    "features = np.zeros((x_test.shape[0], 128))\n",
    "\n",
    "for i in range(num_iter):\n",
    "    # TODO\n",
    "    x_batch = x_test[i*batch_size:(i+1)*batch_size]\n",
    "    y_batch = y_test[i*batch_size:(i+1)*batch_size]\n",
    "\n",
    "    features[i*batch_size:(i+1)*batch_size] = sess.run(fetches=model.fc, \n",
    "                                                       feed_dict={model.input: x_batch, model.target: y_batch})"
   ]
  },
  {
   "cell_type": "code",
   "execution_count": 7,
   "metadata": {
    "collapsed": true
   },
   "outputs": [],
   "source": [
    "embedding_var = tf.Variable(features, name='embedding')"
   ]
  },
  {
   "cell_type": "code",
   "execution_count": 8,
   "metadata": {
    "collapsed": false
   },
   "outputs": [],
   "source": [
    "# make log directory if not exists\n",
    "log_dir = 'logs/'\n",
    "if tf.gfile.Exists(log_dir):\n",
    "    tf.gfile.DeleteRecursively(log_dir)\n",
    "tf.gfile.MakeDirs(log_dir)"
   ]
  },
  {
   "cell_type": "code",
   "execution_count": 9,
   "metadata": {
    "collapsed": false,
    "scrolled": true
   },
   "outputs": [],
   "source": [
    "tf.global_variables_initializer().run()\n",
    "saver = tf.train.Saver()\n",
    "saver.save(sess, save_path=log_dir+'model.ckpt', global_step=None)\n",
    "\n",
    "# (required) add embedding data\n",
    "summary_writer = tf.summary.FileWriter(logdir=log_dir, graph=tf.get_default_graph())\n",
    "config = projector.ProjectorConfig()\n",
    "embedding = config.embeddings.add()\n",
    "embedding.tensor_name = embedding_var.name\n",
    "# TODO\n",
    "embedding.sprite.image_path = 'mnist/mnist_10k_sprite.png'\n",
    "embedding.sprite.single_image_dim.extend([28, 28])"
   ]
  },
  {
   "cell_type": "code",
   "execution_count": 10,
   "metadata": {
    "collapsed": false
   },
   "outputs": [],
   "source": [
    "# (optional) add meta data such as labels and sprite image \n",
    "metadata_path = 'logs/metadata.tsv'\n",
    "with open(metadata_path, 'w') as f:\n",
    "    for i, label in enumerate(mnist.test.labels):\n",
    "        f.write('{}\\n'.format(label))\n",
    "embedding.metadata_path = metadata_path"
   ]
  },
  {
   "cell_type": "code",
   "execution_count": 11,
   "metadata": {
    "collapsed": true
   },
   "outputs": [],
   "source": [
    "# visualize embedding projector\n",
    "projector.visualize_embeddings(summary_writer, config)"
   ]
  }
 ],
 "metadata": {
  "anaconda-cloud": {},
  "kernelspec": {
   "display_name": "Python [conda root]",
   "language": "python",
   "name": "conda-root-py"
  },
  "language_info": {
   "codemirror_mode": {
    "name": "ipython",
    "version": 3
   },
   "file_extension": ".py",
   "mimetype": "text/x-python",
   "name": "python",
   "nbconvert_exporter": "python",
   "pygments_lexer": "ipython3",
   "version": "3.5.2"
  }
 },
 "nbformat": 4,
 "nbformat_minor": 1
}
