{
 "cells": [
  {
   "cell_type": "markdown",
   "metadata": {},
   "source": [
    "### Implementation on VGGNet\n",
    "\n",
    "이제 이를 가지고 좀 더 복잡한 모델에 적용해보고자 합니다.\n",
    "http://cs231n.github.io/convolutional-networks/#case 에 있는 VGGNet을 구현해보겠습니다."
   ]
  },
  {
   "cell_type": "code",
   "execution_count": 1,
   "metadata": {
    "collapsed": true
   },
   "outputs": [],
   "source": [
    "import tensorflow as tf\n",
    "import numpy as np\n",
    "import matplotlib.pyplot as plt\n",
    "%matplotlib inline\n",
    "\n",
    "# Parameters\n",
    "learning_rate = 0.001\n",
    "training_iters = 200000\n",
    "batch_size = 100\n",
    "display_step = 200\n",
    "\n",
    "# Network parameters\n",
    "n_input = 224*224*3\n",
    "n_classes = 1000\n",
    "dropout = 0.5\n",
    "\n",
    "# Graph input\n",
    "x = tf.placeholder(tf.float32, [None, n_input])\n",
    "y = tf.placeholder(tf.float32, [None, n_classes])\n",
    "keep_prob = tf.placeholder(tf.float32) # to keep dropout probability"
   ]
  },
  {
   "cell_type": "code",
   "execution_count": 2,
   "metadata": {
    "collapsed": true
   },
   "outputs": [],
   "source": [
    "def conv2d_simple(x, filter_size, dim_in, dim_out, name, strides=1):\n",
    "    with tf.variable_scope(name) as scope:\n",
    "        if type(filter_size)==int:\n",
    "            filter_height=filter_size\n",
    "            filter_width=filter_size\n",
    "        elif type(filter_size)==list:\n",
    "            filter_height,filter_width=filter_size\n",
    "        w = tf.get_variable('w', shape=[filter_height, filter_width, dim_in, dim_out],\n",
    "                initializer=tf.random_uniform_initializer(minval=-0.1, maxval=0.1))\n",
    "            \n",
    "        b = tf.get_variable('b', shape=[dim_out])\n",
    "        x = tf.nn.conv2d(x,w,strides=[1,strides,strides,1],padding='SAME')\n",
    "        x = tf.nn.bias_add(x,b)\n",
    "    print \"After convolution: \", x.get_shape().as_list()\n",
    "    return tf.nn.relu(x)"
   ]
  },
  {
   "cell_type": "code",
   "execution_count": 3,
   "metadata": {
    "collapsed": true
   },
   "outputs": [],
   "source": [
    "def fc_simple(x,dim_out,name,is_last=False):\n",
    "    with tf.variable_scope(name) as scope:\n",
    "        size_arr = x.get_shape().as_list()\n",
    "        dim_in = np.prod(np.asarray(size_arr[1:]))\n",
    "        x = tf.reshape(x, [-1,dim_in])\n",
    "        dim_in = x.get_shape().as_list()[1]\n",
    "        wd = tf.get_variable('wd', shape=[dim_in, dim_out],\n",
    "                initializer=tf.random_uniform_initializer(minval=-0.1, maxval=0.1))\n",
    "        bd = tf.get_variable('bd', shape=[dim_out])\n",
    "        fc = tf.add(tf.matmul(x, wd),bd)\n",
    "        if not is_last:\n",
    "            fc = tf.nn.relu(fc)\n",
    "            print \"Fully connected:   \", fc.get_shape().as_list()\n",
    "            return fc\n",
    "        print \"Output:            \", fc.get_shape().as_list()\n",
    "        return fc"
   ]
  },
  {
   "cell_type": "code",
   "execution_count": 4,
   "metadata": {
    "collapsed": true
   },
   "outputs": [],
   "source": [
    "def maxpool2d(x, k=2):\n",
    "    pool=tf.nn.max_pool(x, ksize=[1,k,k,1], strides=[1,k,k,1], padding='SAME')\n",
    "    print \"After max_pooling: \", pool.get_shape().as_list()\n",
    "    return pool"
   ]
  },
  {
   "cell_type": "code",
   "execution_count": 5,
   "metadata": {
    "collapsed": true
   },
   "outputs": [],
   "source": [
    "def VGGNet_simple(x, dropout):\n",
    "    with tf.variable_scope('VGGNet_simple'):\n",
    "        # Reshape input picture\n",
    "        x = tf.reshape(x, shape=[-1, 224, 224, 3])\n",
    "        print \"x shape\", x.get_shape().as_list()\n",
    "\n",
    "        # 2 convolutions and 1 max-pooling\n",
    "        conv1 = conv2d_simple(x, 3, 3, 64, 'conv1')\n",
    "        conv2 = conv2d_simple(conv1, 3, 64, 64, 'conv2')\n",
    "        pool1 = maxpool2d(conv2, k=2)\n",
    "\n",
    "        # 2 convolutions and 1 max-pooling\n",
    "        conv3 = conv2d_simple(pool1, 3, 64, 128, 'conv3')\n",
    "        conv4 = conv2d_simple(conv3, 3, 128, 128, 'conv4')\n",
    "        pool2 = maxpool2d(conv4, k=2)\n",
    "\n",
    "        # 3 convolutions and 1 max-pooling\n",
    "        conv5 = conv2d_simple(pool2, 3, 128, 256, 'conv5')\n",
    "        conv6 = conv2d_simple(conv5, 3, 256, 256, 'conv6')\n",
    "        conv7 = conv2d_simple(conv6, 3, 256, 256, 'conv7')\n",
    "        pool3 = maxpool2d(conv7, k=2)\n",
    "\n",
    "        # 3 convolutions and 1 max-pooling\n",
    "        conv8 = conv2d_simple(pool3, 3, 256, 512, 'conv8')\n",
    "        conv9 = conv2d_simple(conv8, 3, 512, 512, 'conv9')\n",
    "        conv10 = conv2d_simple(conv9, 3, 512, 512, 'conv10')\n",
    "        pool4 = maxpool2d(conv10, k=2)\n",
    "\n",
    "        # 3 convolutions and 1 max-pooling\n",
    "        conv11 = conv2d_simple(pool4, 3, 512, 512, 'conv11')\n",
    "        conv12 = conv2d_simple(conv11, 3, 512, 512, 'conv12')\n",
    "        conv13 = conv2d_simple(conv12, 3, 512, 512, 'conv13')\n",
    "        pool5 = maxpool2d(conv13, k=2)\n",
    "\n",
    "        # Fully connected layers\n",
    "        fc1 = fc_simple(pool5, 4096, 'fc1')\n",
    "        fc2 = fc_simple(fc1, 4096, 'fc2')\n",
    "        out = fc_simple(fc2, n_classes, 'out',is_last=True)\n",
    "        return out"
   ]
  },
  {
   "cell_type": "raw",
   "metadata": {},
   "source": [
    "INPUT: [224x224x3]        memory:  224*224*3=150K   weights: 0\n",
    "CONV3-64: [224x224x64]  memory:  224*224*64=3.2M   weights: (3*3*3)*64 = 1,728\n",
    "CONV3-64: [224x224x64]  memory:  224*224*64=3.2M   weights: (3*3*64)*64 = 36,864\n",
    "POOL2: [112x112x64]  memory:  112*112*64=800K   weights: 0\n",
    "CONV3-128: [112x112x128]  memory:  112*112*128=1.6M   weights: (3*3*64)*128 = 73,728\n",
    "CONV3-128: [112x112x128]  memory:  112*112*128=1.6M   weights: (3*3*128)*128 = 147,456\n",
    "POOL2: [56x56x128]  memory:  56*56*128=400K   weights: 0\n",
    "CONV3-256: [56x56x256]  memory:  56*56*256=800K   weights: (3*3*128)*256 = 294,912\n",
    "CONV3-256: [56x56x256]  memory:  56*56*256=800K   weights: (3*3*256)*256 = 589,824\n",
    "CONV3-256: [56x56x256]  memory:  56*56*256=800K   weights: (3*3*256)*256 = 589,824\n",
    "POOL2: [28x28x256]  memory:  28*28*256=200K   weights: 0\n",
    "CONV3-512: [28x28x512]  memory:  28*28*512=400K   weights: (3*3*256)*512 = 1,179,648\n",
    "CONV3-512: [28x28x512]  memory:  28*28*512=400K   weights: (3*3*512)*512 = 2,359,296\n",
    "CONV3-512: [28x28x512]  memory:  28*28*512=400K   weights: (3*3*512)*512 = 2,359,296\n",
    "POOL2: [14x14x512]  memory:  14*14*512=100K   weights: 0\n",
    "CONV3-512: [14x14x512]  memory:  14*14*512=100K   weights: (3*3*512)*512 = 2,359,296\n",
    "CONV3-512: [14x14x512]  memory:  14*14*512=100K   weights: (3*3*512)*512 = 2,359,296\n",
    "CONV3-512: [14x14x512]  memory:  14*14*512=100K   weights: (3*3*512)*512 = 2,359,296\n",
    "POOL2: [7x7x512]  memory:  7*7*512=25K  weights: 0\n",
    "FC: [1x1x4096]  memory:  4096  weights: 7*7*512*4096 = 102,760,448\n",
    "FC: [1x1x4096]  memory:  4096  weights: 4096*4096 = 16,777,216\n",
    "FC: [1x1x1000]  memory:  1000 weights: 4096*1000 = 4,096,000\n",
    "\n",
    "TOTAL memory: 24M * 4 bytes ~= 93MB / image (only forward! ~*2 for bwd)\n",
    "TOTAL params: 138M parameters"
   ]
  },
  {
   "cell_type": "code",
   "execution_count": 6,
   "metadata": {
    "collapsed": false
   },
   "outputs": [
    {
     "name": "stdout",
     "output_type": "stream",
     "text": [
      "x shape [None, 224, 224, 3]\n",
      "After convolution:  [None, 224, 224, 64]\n",
      "After convolution:  [None, 224, 224, 64]\n",
      "After max_pooling:  [None, 112, 112, 64]\n",
      "After convolution:  [None, 112, 112, 128]\n",
      "After convolution:  [None, 112, 112, 128]\n",
      "After max_pooling:  [None, 56, 56, 128]\n",
      "After convolution:  [None, 56, 56, 256]\n",
      "After convolution:  [None, 56, 56, 256]\n",
      "After convolution:  [None, 56, 56, 256]\n",
      "After max_pooling:  [None, 28, 28, 256]\n",
      "After convolution:  [None, 28, 28, 512]\n",
      "After convolution:  [None, 28, 28, 512]\n",
      "After convolution:  [None, 28, 28, 512]\n",
      "After max_pooling:  [None, 14, 14, 512]\n",
      "After convolution:  [None, 14, 14, 512]\n",
      "After convolution:  [None, 14, 14, 512]\n",
      "After convolution:  [None, 14, 14, 512]\n",
      "After max_pooling:  [None, 7, 7, 512]\n",
      "Fully connected:    [None, 4096]\n",
      "Fully connected:    [None, 4096]\n",
      "Output:             [None, 1000]\n"
     ]
    }
   ],
   "source": [
    "#tf.get_variable_scope().reuse_variables()\n",
    "# Construct model\n",
    "pred = VGGNet_simple(x, keep_prob)"
   ]
  },
  {
   "cell_type": "code",
   "execution_count": 7,
   "metadata": {
    "collapsed": true
   },
   "outputs": [],
   "source": [
    "# Define loss\n",
    "cost = tf.reduce_mean(tf.nn.softmax_cross_entropy_with_logits(pred, y))\n",
    "# Define optimizer\n",
    "optimizer = tf.train.RMSPropOptimizer(learning_rate=learning_rate).minimize(cost)\n",
    "# Find correct prediction\n",
    "correct_pred = tf.equal(tf.argmax(pred,1), tf.argmax(y,1))\n",
    "# Get accuracy\n",
    "accuracy = tf.reduce_mean(tf.cast(correct_pred, tf.float32))\n",
    "# initialize variables\n",
    "init = tf.initialize_all_variables()\n",
    "gpu_options = tf.GPUOptions(allow_growth=True, per_process_gpu_memory_fraction=0.733)\n",
    "config = tf.ConfigProto(log_device_placement=True, allow_soft_placement=True,\n",
    "                        gpu_options=gpu_options)"
   ]
  },
  {
   "cell_type": "code",
   "execution_count": 8,
   "metadata": {
    "collapsed": true
   },
   "outputs": [],
   "source": [
    "# apply config when starting session\n",
    "sess = tf.InteractiveSession(config=config)\n",
    "init.run()"
   ]
  }
 ],
 "metadata": {
  "kernelspec": {
   "display_name": "Python [Root]",
   "language": "python",
   "name": "Python [Root]"
  },
  "language_info": {
   "codemirror_mode": {
    "name": "ipython",
    "version": 2
   },
   "file_extension": ".py",
   "mimetype": "text/x-python",
   "name": "python",
   "nbconvert_exporter": "python",
   "pygments_lexer": "ipython2",
   "version": "2.7.12"
  }
 },
 "nbformat": 4,
 "nbformat_minor": 0
}
