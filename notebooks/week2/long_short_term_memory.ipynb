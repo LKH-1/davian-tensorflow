{
 "cells": [
  {
   "cell_type": "markdown",
   "metadata": {},
   "source": [
    "# Long Short Term Memory\n",
    "이번 튜토리얼에서는 LSTM을 이용해 many-to-one model을 만들어 mnist classification을 해보도록 하겠습니다. 이번 튜토리얼의 목적은 tf.nn.rnn_cell.BasicLSTMCell과 tf.nn.dynamic_rnn을 제대로 이해하는 것 입니다."
   ]
  },
  {
   "cell_type": "code",
   "execution_count": 2,
   "metadata": {
    "collapsed": false
   },
   "outputs": [
    {
     "name": "stdout",
     "output_type": "stream",
     "text": [
      "Extracting ./mnist/train-images-idx3-ubyte.gz\n",
      "Extracting ./mnist/train-labels-idx1-ubyte.gz\n",
      "Extracting ./mnist/t10k-images-idx3-ubyte.gz\n",
      "Extracting ./mnist/t10k-labels-idx1-ubyte.gz\n"
     ]
    }
   ],
   "source": [
    "from tensorflow.examples.tutorials.mnist import input_data\n",
    "import tensorflow as tf\n",
    "import matplotlib.pyplot as plt\n",
    "import numpy as np\n",
    "import os\n",
    "%matplotlib inline\n",
    "\n",
    "mnist = input_data.read_data_sets(\"./mnist/\", one_hot=False)"
   ]
  },
  {
   "cell_type": "code",
   "execution_count": 2,
   "metadata": {
    "collapsed": true
   },
   "outputs": [],
   "source": [
    "num_epochs = 15\n",
    "batch_size = 100\n",
    "seq_length = 28   \n",
    "dim_input = 28\n",
    "dim_hidden = 128\n",
    "dim_out = 10\n",
    "model_path = './model'\n",
    "num_layers = 4\n",
    "keep_prob = 0.7"
   ]
  },
  {
   "cell_type": "code",
   "execution_count": 3,
   "metadata": {
    "collapsed": false
   },
   "outputs": [],
   "source": [
    "x = tf.placeholder(dtype=tf.float32, shape=[None, 28, 28], name='inputs')  \n",
    "y = tf.placeholder(dtype=tf.int64, shape=[None], name='labels')"
   ]
  },
  {
   "cell_type": "markdown",
   "metadata": {},
   "source": [
    "[tf.nn.rnn_cell](https://github.com/tensorflow/tensorflow/blob/master/tensorflow/python/ops/rnn_cell.py/#BasicLSTMCell)\n",
    "\n",
    "[tf.nn.rnn](https://github.com/tensorflow/tensorflow/blob/master/tensorflow/python/ops/rnn.py)"
   ]
  },
  {
   "cell_type": "code",
   "execution_count": 4,
   "metadata": {
    "collapsed": true
   },
   "outputs": [],
   "source": [
    "def lstm(x, mode='train'):\n",
    "    with tf.variable_scope('lstm') as scope:\n",
    "        lstm_cell = tf.nn.rnn_cell.BasicLSTMCell(num_units=dim_hidden)\n",
    "        if mode == 'train':\n",
    "            lstm_cell = tf.nn.rnn_cell.DropoutWrapper(cell=lstm_cell, output_keep_prob=keep_prob)\n",
    "        lstm_cell = tf.nn.rnn_cell.MultiRNNCell(cells=[lstm_cell]*num_layers, state_is_tuple=True)\n",
    "        outputs, states = tf.nn.dynamic_rnn(cell=lstm_cell, inputs=x, dtype=tf.float32, scope=scope)\n",
    "  \n",
    "    with tf.variable_scope('logits'):\n",
    "        w = tf.get_variable('w', shape=[dim_hidden, dim_out], initializer=tf.random_normal_initializer())\n",
    "        b = tf.get_variable('b', shape=[dim_out], initializer=tf.constant_initializer(0.0))\n",
    "        out = tf.matmul(tf.reshape(outputs[:, -1, :], [-1, dim_hidden]), w) + b\n",
    "        return out"
   ]
  },
  {
   "cell_type": "code",
   "execution_count": 5,
   "metadata": {
    "collapsed": false,
    "scrolled": true
   },
   "outputs": [],
   "source": [
    "out = lstm(x, mode='train')\n",
    "tf.get_variable_scope().reuse_variables()\n",
    "out2 = lstm(x, mode='test')\n",
    "\n",
    "loss = tf.reduce_mean(tf.nn.sparse_softmax_cross_entropy_with_logits(out, y))\n",
    "optimizer = tf.train.RMSPropOptimizer(learning_rate=0.001).minimize(loss)\n",
    "\n",
    "pred = tf.argmax(out2, 1) # batch_size\n",
    "\n",
    "correct_pred = tf.equal(pred, y)\n",
    "incorrect_pred = tf.not_equal(pred, y)\n",
    "\n",
    "accuracy = tf.reduce_mean(tf.cast(correct_pred, tf.float32))"
   ]
  },
  {
   "cell_type": "code",
   "execution_count": 6,
   "metadata": {
    "collapsed": false,
    "scrolled": true
   },
   "outputs": [
    {
     "name": "stdout",
     "output_type": "stream",
     "text": [
      "Epoch 1, Loss: 0.706\n",
      "Epoch 2, Loss: 0.155\n",
      "Epoch 3, Loss: 0.100\n",
      "Epoch 4, Loss: 0.073\n",
      "Epoch 5, Loss: 0.059\n",
      "Epoch 6, Loss: 0.049\n",
      "Epoch 7, Loss: 0.042\n",
      "Epoch 8, Loss: 0.037\n",
      "Epoch 9, Loss: 0.031\n",
      "Epoch 10, Loss: 0.029\n",
      "Epoch 11, Loss: 0.026\n",
      "Epoch 12, Loss: 0.022\n",
      "Epoch 13, Loss: 0.021\n",
      "Epoch 14, Loss: 0.019\n",
      "Epoch 15, Loss: 0.018\n",
      "Finished training!\n"
     ]
    }
   ],
   "source": [
    "if not os.path.exists(model_path):\n",
    "    os.makedirs(model_path)\n",
    "\n",
    "config = tf.ConfigProto()\n",
    "config.gpu_options.allow_growth = True\n",
    "with tf.Session(config=config) as sess:\n",
    "    # initialize tensor variables\n",
    "    tf.initialize_all_variables().run()\n",
    "    saver = tf.train.Saver(max_to_keep=15)\n",
    "    # training cycle\n",
    "    for epoch in range(15):\n",
    "        avg_loss = 0.\n",
    "        n_iters_per_epoch = int(mnist.train.num_examples / batch_size)\n",
    "        # loop over all batches\n",
    "        for i in range(n_iters_per_epoch):\n",
    "            x_batch, y_batch = mnist.train.next_batch(batch_size)\n",
    "            # reshape inputs to batch_sizex seq_length x dim_input \n",
    "            x_batch = x_batch.reshape(-1, seq_length, dim_input)\n",
    "            # run optimization op (backprop) and loss op (to get loss value)\n",
    "            _, c = sess.run([optimizer, loss], feed_dict={x: x_batch, y: y_batch})\n",
    "            # compute average loss\n",
    "            avg_loss += c / n_iters_per_epoch\n",
    "        print \"Epoch %d, Loss: %.3f\"% (epoch+1, avg_loss)\n",
    "        saver.save(sess, os.path.join(model_path, 'lstm_model'), global_step=epoch+1)\n",
    "    print \"Finished training!\""
   ]
  },
  {
   "cell_type": "code",
   "execution_count": 8,
   "metadata": {
    "collapsed": false,
    "scrolled": true
   },
   "outputs": [
    {
     "name": "stdout",
     "output_type": "stream",
     "text": [
      "Test accuracy:  0.996099970937\n"
     ]
    }
   ],
   "source": [
    "config = tf.ConfigProto()\n",
    "config.gpu_options.allow_growth = True\n",
    "with tf.Session(config=config) as sess:\n",
    "    saver = tf.train.Saver()\n",
    "    saver.restore(sess, os.path.join(model_path, 'lstm_model-15'))\n",
    "    avg_accuracy = 0.0\n",
    "    n_iters_per_epoch = int(mnist.test.num_examples / batch_size)\n",
    "    for i in range(n_iters_per_epoch):\n",
    "        x_batch, y_batch = mnist.train.next_batch(batch_size)\n",
    "        # reshape inputs to batch_sizex seq_length x dim_input \n",
    "        x_batch = x_batch.reshape(-1, seq_length, dim_input)\n",
    "        # run optimization op (backprop) and loss op (to get loss value)\n",
    "        acc = sess.run(accuracy, feed_dict={x: x_batch, y: y_batch})\n",
    "        # compute average loss\n",
    "        avg_accuracy += acc / n_iters_per_epoch\n",
    "    print \"Test accuracy: \", avg_accuracy"
   ]
  }
 ],
 "metadata": {
  "anaconda-cloud": {},
  "kernelspec": {
   "display_name": "Python [conda root]",
   "language": "python",
   "name": "conda-root-py"
  },
  "language_info": {
   "codemirror_mode": {
    "name": "ipython",
    "version": 2
   },
   "file_extension": ".py",
   "mimetype": "text/x-python",
   "name": "python",
   "nbconvert_exporter": "python",
   "pygments_lexer": "ipython2",
   "version": "2.7.12"
  }
 },
 "nbformat": 4,
 "nbformat_minor": 1
}
