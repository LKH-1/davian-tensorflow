{
 "cells": [
  {
   "cell_type": "markdown",
   "metadata": {},
   "source": [
    "다음은 좀 더 간단하게 CNN을 만들기 위한 나름의 팁을 알려드리고자 합니다.\n",
    "일단, 아까와 똑같은 걸 실행하겠습니다."
   ]
  },
  {
   "cell_type": "code",
   "execution_count": 1,
   "metadata": {
    "collapsed": false
   },
   "outputs": [
    {
     "name": "stdout",
     "output_type": "stream",
     "text": [
      "Extracting ./mnist/train-images-idx3-ubyte.gz\n",
      "Extracting ./mnist/train-labels-idx1-ubyte.gz\n",
      "Extracting ./mnist/t10k-images-idx3-ubyte.gz\n",
      "Extracting ./mnist/t10k-labels-idx1-ubyte.gz\n",
      "x_train:  (55000, 784)\n",
      "y_train:  (55000, 10)\n",
      "x_test:  (10000, 784)\n",
      "y_test:  (10000, 10)\n"
     ]
    }
   ],
   "source": [
    "import tensorflow as tf\n",
    "import numpy as np\n",
    "import matplotlib.pyplot as plt\n",
    "from tensorflow.examples.tutorials.mnist import input_data\n",
    "%matplotlib inline\n",
    "\n",
    "\n",
    "mnist = input_data.read_data_sets(\"./mnist\", one_hot=True)\n",
    "x_train = mnist.train.images\n",
    "y_train = mnist.train.labels\n",
    "x_test = mnist.test.images\n",
    "y_test = mnist.test.labels\n",
    "\n",
    "print \"x_train: \", x_train.shape\n",
    "print \"y_train: \", y_train.shape\n",
    "print \"x_test: \", x_test.shape\n",
    "print \"y_test: \", y_test.shape\n",
    "\n",
    "# Parameters\n",
    "learning_rate = 0.001\n",
    "training_iters = 200000\n",
    "batch_size = 100\n",
    "display_step = 200\n",
    "\n",
    "# Network parameters\n",
    "n_input = 784\n",
    "n_classes = 10\n",
    "dropout = 0.5\n",
    "\n",
    "# Graph input\n",
    "x = tf.placeholder(tf.float32, [None, n_input])\n",
    "y = tf.placeholder(tf.float32, [None, n_classes])\n",
    "keep_prob = tf.placeholder(tf.float32) # to keep dropout probability"
   ]
  },
  {
   "cell_type": "markdown",
   "metadata": {},
   "source": [
    "weight, bias를 매번 만들어줘야 하는 게 번거롭고, 또 tf.nn. 패키지 내의 다양한 연산들을 사용하다 보면 코드가 복잡해지는 등의 문제점이 있습니다. 이러한 점을 보완해보고자 지난 수업 때 나온 ** tf.get_variable() **이라는 함수를 활용하여, 간편성을 살린 함수를 만들어봤습니다."
   ]
  },
  {
   "cell_type": "code",
   "execution_count": 2,
   "metadata": {
    "collapsed": false
   },
   "outputs": [],
   "source": [
    "def conv2d_simple(x, filter_size, dim_in, dim_out, name, strides=1):\n",
    "    with tf.variable_scope(name) as scope:\n",
    "        if type(filter_size)==int:\n",
    "            filter_height=filter_size\n",
    "            filter_width=filter_size\n",
    "        elif type(filter_size)==list:\n",
    "            filter_height,filter_width=filter_size\n",
    "        w = tf.get_variable('w', shape=[filter_height, filter_width, dim_in, dim_out],\n",
    "                initializer=tf.random_uniform_initializer(minval=-0.1, maxval=0.1))\n",
    "            \n",
    "        b = tf.get_variable('b', shape=[dim_out])\n",
    "        x = tf.nn.conv2d(x,w,strides=[1,strides,strides,1],padding='SAME')\n",
    "        x = tf.nn.bias_add(x,b)\n",
    "    print \"After convolution: \", x.get_shape().as_list()\n",
    "    return tf.nn.relu(x)"
   ]
  },
  {
   "cell_type": "code",
   "execution_count": 3,
   "metadata": {
    "collapsed": true
   },
   "outputs": [],
   "source": [
    "def fc_simple(x,dim_out,name,is_last=False):\n",
    "    with tf.variable_scope(name) as scope:\n",
    "        size_arr = x.get_shape().as_list()\n",
    "        dim_in = np.prod(np.asarray(size_arr[1:]))\n",
    "        x = tf.reshape(x, [-1,dim_in])\n",
    "        dim_in = x.get_shape().as_list()[1]\n",
    "        wd = tf.get_variable('wd', shape=[dim_in, dim_out],\n",
    "                initializer=tf.random_uniform_initializer(minval=-0.1, maxval=0.1))\n",
    "        bd = tf.get_variable('bd', shape=[dim_out])\n",
    "        fc = tf.add(tf.matmul(x, wd),bd)\n",
    "        if not is_last:\n",
    "            fc = tf.nn.relu(fc)\n",
    "            print \"Fully connected:   \", fc.get_shape().as_list()\n",
    "            return fc\n",
    "        print \"Output:            \", fc.get_shape().as_list()\n",
    "        return fc"
   ]
  },
  {
   "cell_type": "code",
   "execution_count": 4,
   "metadata": {
    "collapsed": true
   },
   "outputs": [],
   "source": [
    "def maxpool2d(x, k=2):\n",
    "    pool=tf.nn.max_pool(x, ksize=[1,k,k,1], strides=[1,k,k,1], padding='SAME')\n",
    "    print \"After max_pooling: \", pool.get_shape().as_list()\n",
    "    return pool"
   ]
  },
  {
   "cell_type": "code",
   "execution_count": 5,
   "metadata": {
    "collapsed": true
   },
   "outputs": [],
   "source": [
    "def CNN(x, weights, biases, dropout):\n",
    "    \n",
    "    # Reshape input picture\n",
    "    x = tf.reshape(x, shape=[-1, 28, 28, 1])\n",
    "\n",
    "    # 1st Convolution Layer\n",
    "    conv1 = tf.nn.conv2d(x, weights['wc1'], strides=[1,1,1,1], padding='SAME')\n",
    "    conv1 = tf.nn.bias_add(x, biases['bc1'])\n",
    "    conv1 = tf.nn.relu(conv1)\n",
    "    # Max Pooling (down-sampling)\n",
    "    pool1 = tf.nn.max_pool(conv1, ksize=[1,2,2,1], strides=[1,2,2,1], padding='SAME')\n",
    "\n",
    "    # 2nd Convolution Layer\n",
    "    conv2 = tf.nn.conv2d(pool1, weights['wc2'], strides=[1,1,1,1], padding='SAME')\n",
    "    conv2 = tf.nn.bias_add(x, biases['bc2'])\n",
    "    conv2 = tf.nn.relu(conv2)\n",
    "    # Max Pooling (down-sampling)\n",
    "    pool2 = tf.nn.max_pool(conv2, ksize=[1,2,2,1], strides=[1,2,2,1], padding='SAME')\n",
    "\n",
    "    # Fully connected layer\n",
    "    fc1 = tf.reshape(pool2, [-1, weights['wd1'].get_shape().as_list()[0]])\n",
    "    fc1 = tf.add(tf.matmul(fc1, weights['wd1']), biases['bd1'])\n",
    "    fc1 = tf.nn.relu(fc1)\n",
    "    # Apply Dropout\n",
    "    fc1 = tf.nn.dropout(fc1, dropout)\n",
    "    # Output, class prediction\n",
    "    out = tf.add(tf.matmul(fc1, weights['out']), biases['out'])\n",
    "    return out"
   ]
  },
  {
   "cell_type": "code",
   "execution_count": 6,
   "metadata": {
    "collapsed": true
   },
   "outputs": [],
   "source": [
    "def CNN_simple(x, dropout):\n",
    "    with tf.variable_scope('CNN_simple'):\n",
    "        # Reshape input picture\n",
    "        x = tf.reshape(x, shape=[-1, 28, 28, 1])\n",
    "\n",
    "        # 1st Convolution Layer\n",
    "        conv1 = conv2d_simple(x, 5, 1, 32, 'conv1')\n",
    "        # Max Pooling (down-sampling)\n",
    "        max1 = maxpool2d(conv1, k=2)\n",
    "\n",
    "        # 2nd Convolution Layer\n",
    "        conv2 = conv2d_simple(max1, 5, 32, 64, 'conv2')\n",
    "        # Max Pooling (down-sampling)\n",
    "        max2 = maxpool2d(conv2, k=2)\n",
    "\n",
    "        # Fully connected layer\n",
    "#        out = fc_simple(max2, 1024, n_classes, 'fc')\n",
    "        fc = fc_simple(max2, 1024, 'fc1')\n",
    "        out = fc_simple(fc, n_classes, 'fc2',is_last=True)\n",
    "        return out"
   ]
  },
  {
   "cell_type": "code",
   "execution_count": 7,
   "metadata": {
    "collapsed": false
   },
   "outputs": [
    {
     "name": "stdout",
     "output_type": "stream",
     "text": [
      "After convolution:  [None, 28, 28, 32]\n",
      "After max_pooling:  [None, 14, 14, 32]\n",
      "After convolution:  [None, 14, 14, 64]\n",
      "After max_pooling:  [None, 7, 7, 64]\n",
      "Fully connected:    [None, 1024]\n",
      "Output:             [None, 10]\n",
      "Iter 20000, Minibatch Loss= 0.206446, Training Accuracy= 0.89000\n",
      "Iter 40000, Minibatch Loss= 0.187721, Training Accuracy= 0.95000\n",
      "Iter 60000, Minibatch Loss= 0.073944, Training Accuracy= 0.97000\n",
      "Iter 80000, Minibatch Loss= 0.028082, Training Accuracy= 0.99000\n",
      "Iter 100000, Minibatch Loss= 0.004417, Training Accuracy= 1.00000\n",
      "Iter 120000, Minibatch Loss= 0.013792, Training Accuracy= 0.99000\n",
      "Iter 140000, Minibatch Loss= 0.003636, Training Accuracy= 1.00000\n",
      "Iter 160000, Minibatch Loss= 0.002261, Training Accuracy= 1.00000\n",
      "Iter 180000, Minibatch Loss= 0.000461, Training Accuracy= 1.00000\n",
      "Optimization Finished!\n",
      "('Testing Accuracy:', 0.984375)\n"
     ]
    }
   ],
   "source": [
    "# Construct model\n",
    "pred = CNN_simple(x, keep_prob)\n",
    "# Define loss\n",
    "cost = tf.reduce_mean(tf.nn.softmax_cross_entropy_with_logits(pred, y))\n",
    "# Define optimizer\n",
    "optimizer = tf.train.RMSPropOptimizer(learning_rate=learning_rate).minimize(cost)\n",
    "# Find correct prediction\n",
    "correct_pred = tf.equal(tf.argmax(pred,1), tf.argmax(y,1))\n",
    "# Get accuracy\n",
    "accuracy = tf.reduce_mean(tf.cast(correct_pred, tf.float32))\n",
    "# initialize variables\n",
    "init = tf.initialize_all_variables()\n",
    "# config options\n",
    "gpu_options = tf.GPUOptions(allow_growth=True, per_process_gpu_memory_fraction=0.1)\n",
    "config = tf.ConfigProto(log_device_placement=True, allow_soft_placement=True,\n",
    "                        gpu_options=gpu_options)\n",
    "# apply config when starting session\n",
    "sess = tf.InteractiveSession(config=config)\n",
    "init.run()\n",
    "step = 1\n",
    "while step * batch_size < training_iters:\n",
    "    batch_x, batch_y = mnist.train.next_batch(batch_size)\n",
    "    # Run optimization\n",
    "    sess.run(optimizer, feed_dict={x: batch_x, y: batch_y, keep_prob: dropout})\n",
    "    if step % display_step == 0:\n",
    "    # Calculate batch loss and accuracy\n",
    "        loss, acc = sess.run([cost, accuracy], feed_dict={x: batch_x,\n",
    "                                                              y: batch_y,\n",
    "                                                              keep_prob: 1.})\n",
    "        print(\"Iter \" + str(step*batch_size) + \", Minibatch Loss= \" + \\\n",
    "                  \"{:.6f}\".format(loss) + \", Training Accuracy= \" + \\\n",
    "                  \"{:.5f}\".format(acc))\n",
    "    step += 1\n",
    "print(\"Optimization Finished!\")\n",
    "    # Calculate accuracy for 256 mnist test images\n",
    "print(\"Testing Accuracy:\", \\\n",
    "    sess.run(accuracy, feed_dict={x: mnist.test.images[:256],\n",
    "                                      y: mnist.test.labels[:256],\n",
    "                                      keep_prob: 1.}))"
   ]
  },
  {
   "cell_type": "markdown",
   "metadata": {},
   "source": [
    "** Tensor visualization **\n",
    "\n",
    "사용한 weight나 tensor가 어떤 값을 가지는지 어떻게 볼 수 있는지 확인해보겠습니다."
   ]
  },
  {
   "cell_type": "code",
   "execution_count": 8,
   "metadata": {
    "collapsed": false
   },
   "outputs": [
    {
     "name": "stdout",
     "output_type": "stream",
     "text": [
      "CNN_simple/conv1/w  :  (5, 5, 1, 32)\n",
      "CNN_simple/conv1/b  :  (32,)\n",
      "CNN_simple/conv2/w  :  (5, 5, 32, 64)\n",
      "CNN_simple/conv2/b  :  (64,)\n",
      "CNN_simple/fc1/wd  :  (3136, 1024)\n",
      "CNN_simple/fc1/bd  :  (1024,)\n",
      "CNN_simple/fc2/wd  :  (1024, 10)\n",
      "CNN_simple/fc2/bd  :  (10,)\n"
     ]
    }
   ],
   "source": [
    "#for var in tf.all_variables():\n",
    "for var in tf.trainable_variables():\n",
    "    print var.op.name, \" : \", var.get_shape()"
   ]
  },
  {
   "cell_type": "code",
   "execution_count": 9,
   "metadata": {
    "collapsed": false
   },
   "outputs": [
    {
     "name": "stdout",
     "output_type": "stream",
     "text": [
      "CNN_simple/conv1/w (5, 5, 1, 32)\n",
      "CNN_simple/conv1/b (32,)\n"
     ]
    }
   ],
   "source": [
    "for var in tf.trainable_variables():\n",
    "    if var.name.startswith('CNN_simple/conv1'):\n",
    "        print var.op.name, var.get_shape()"
   ]
  }
 ],
 "metadata": {
  "celltoolbar": "Raw Cell Format",
  "kernelspec": {
   "display_name": "Python [Root]",
   "language": "python",
   "name": "Python [Root]"
  },
  "language_info": {
   "codemirror_mode": {
    "name": "ipython",
    "version": 2
   },
   "file_extension": ".py",
   "mimetype": "text/x-python",
   "name": "python",
   "nbconvert_exporter": "python",
   "pygments_lexer": "ipython2",
   "version": "2.7.12"
  }
 },
 "nbformat": 4,
 "nbformat_minor": 0
}
