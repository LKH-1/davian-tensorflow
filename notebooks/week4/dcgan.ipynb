{
 "cells": [
  {
   "cell_type": "code",
   "execution_count": 4,
   "metadata": {
    "collapsed": true
   },
   "outputs": [],
   "source": [
    "import tensorflow as tf\n",
    "import numpy as np"
   ]
  },
  {
   "cell_type": "code",
   "execution_count": 3,
   "metadata": {
    "collapsed": false
   },
   "outputs": [
    {
     "name": "stdout",
     "output_type": "stream",
     "text": [
      "Help on function conv2d_transpose in module tensorflow.python.ops.nn_ops:\n",
      "\n",
      "conv2d_transpose(value, filter, output_shape, strides, padding='SAME', name=None)\n",
      "    The transpose of `conv2d`.\n",
      "    \n",
      "    This operation is sometimes called \"deconvolution\" after [Deconvolutional\n",
      "    Networks](http://www.matthewzeiler.com/pubs/cvpr2010/cvpr2010.pdf), but is\n",
      "    actually the transpose (gradient) of `conv2d` rather than an actual\n",
      "    deconvolution.\n",
      "    \n",
      "    Args:\n",
      "      value: A 4-D `Tensor` of type `float` and shape\n",
      "        `[batch, height, width, in_channels]`.\n",
      "      filter: A 4-D `Tensor` with the same type as `value` and shape\n",
      "        `[height, width, output_channels, in_channels]`.  `filter`'s\n",
      "        `in_channels` dimension must match that of `value`.\n",
      "      output_shape: A 1-D `Tensor` representing the output shape of the\n",
      "        deconvolution op.\n",
      "      strides: A list of ints. The stride of the sliding window for each\n",
      "        dimension of the input tensor.\n",
      "      padding: A string, either `'VALID'` or `'SAME'`. The padding algorithm.\n",
      "        See the [comment here](https://www.tensorflow.org/api_docs/python/nn.html#convolution)\n",
      "      name: Optional name for the returned tensor.\n",
      "    \n",
      "    Returns:\n",
      "      A `Tensor` with the same type as `value`.\n",
      "    \n",
      "    Raises:\n",
      "      ValueError: If input/output depth does not match `filter`'s shape, or if\n",
      "        padding is other than `'VALID'` or `'SAME'`.\n",
      "\n"
     ]
    }
   ],
   "source": [
    "help(tf.nn.conv2d_transpose)"
   ]
  },
  {
   "cell_type": "code",
   "execution_count": 6,
   "metadata": {
    "collapsed": false
   },
   "outputs": [],
   "source": [
    "inputs = np.ndarray((100, 4, 4, 512))"
   ]
  },
  {
   "cell_type": "code",
   "execution_count": 12,
   "metadata": {
    "collapsed": false
   },
   "outputs": [],
   "source": [
    "filters = np.ndarray((5, 5, 256, 3))"
   ]
  },
  {
   "cell_type": "code",
   "execution_count": 18,
   "metadata": {
    "collapsed": false
   },
   "outputs": [],
   "source": [
    "deconv = tf.nn.conv2d_transpose(inputs, filters, output_shape=[100, 8, 8, 256], strides=[1, 2, 2, 1])"
   ]
  },
  {
   "cell_type": "code",
   "execution_count": 24,
   "metadata": {
    "collapsed": false
   },
   "outputs": [],
   "source": [
    "def deconv2d(x, output_shape, k_w=5, k_h=5, s_w=2, s_h=2, name=None):\n",
    "    \"\"\"Computes Deconvolution Operation\n",
    "    \n",
    "    Args:\n",
    "        x: input tensor of shape (batch_size, width_in, height_in, channel_in)\n",
    "        output_shape: list corresponding to [batch_size, width_out, height_out, channel_out]\n",
    "        k_w: kernel width size; default is 5\n",
    "        k_h: kernel height size; default is 5\n",
    "        s_w: stride size for width; default is 2\n",
    "        s_h: stride size for heigth; default is 2\n",
    "        \n",
    "    Returns:\n",
    "        out: output tensor of shape (batch_size, width_out, hegith_out, channel_out)\n",
    "    \"\"\"\n",
    "    \n",
    "    channel_in = tf.shape(inputs)[-1]\n",
    "    channel_out = tf.shape(output_shape)[-1]\n",
    "    \n",
    "    with tf.variable_scope(name):\n",
    "        w = tf.get_variable('w', shape=[k_w, k_h, channel_out, channel_in], \n",
    "                            initializer=tf.truncated_normal_initializer(stddev=0.01))\n",
    "        b = tf.get_variable('b', shape=[channel_out], initializer=tf.constant_initializer(0.0))\n",
    "        \n",
    "        out = tf.nn.conv2d_transpose(x, filter=w, output_shape=output_shape, strides=[1, s_w, s_h, 1]) + b\n",
    "    \n",
    "    return out"
   ]
  },
  {
   "cell_type": "code",
   "execution_count": null,
   "metadata": {
    "collapsed": true
   },
   "outputs": [],
   "source": []
  },
  {
   "cell_type": "code",
   "execution_count": 22,
   "metadata": {
    "collapsed": true
   },
   "outputs": [],
   "source": [
    " w = tf.get_variable(name='w', shape=[5, 5, 1, 3], dtype=tf.float64)"
   ]
  }
 ],
 "metadata": {
  "anaconda-cloud": {},
  "kernelspec": {
   "display_name": "Python [conda root]",
   "language": "python",
   "name": "conda-root-py"
  },
  "language_info": {
   "codemirror_mode": {
    "name": "ipython",
    "version": 2
   },
   "file_extension": ".py",
   "mimetype": "text/x-python",
   "name": "python",
   "nbconvert_exporter": "python",
   "pygments_lexer": "ipython2",
   "version": "2.7.12"
  }
 },
 "nbformat": 4,
 "nbformat_minor": 1
}
